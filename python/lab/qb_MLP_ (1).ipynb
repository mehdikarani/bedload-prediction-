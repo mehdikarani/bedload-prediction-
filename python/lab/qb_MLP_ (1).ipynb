{
  "cells": [
    {
      "cell_type": "code",
      "execution_count": 209,
      "metadata": {
        "id": "GtuxwdPZX9Hy"
      },
      "outputs": [],
      "source": [
        "import numpy as np\n",
        "import pandas as pd\n",
        "from sklearn.model_selection import cross_val_score, train_test_split\n",
        "import matplotlib.pyplot as plt\n",
        "from keras.models import Sequential\n",
        "from keras.layers import Dense"
      ]
    },
    {
      "cell_type": "code",
      "execution_count": 210,
      "metadata": {
        "colab": {
          "base_uri": "https://localhost:8080/",
          "height": 223
        },
        "id": "JtFg-RveYgY8",
        "outputId": "719791ff-da21-4f97-aa19-91d8dfcd09ca"
      },
      "outputs": [
        {
          "data": {
            "text/html": [
              "<div>\n",
              "<style scoped>\n",
              "    .dataframe tbody tr th:only-of-type {\n",
              "        vertical-align: middle;\n",
              "    }\n",
              "\n",
              "    .dataframe tbody tr th {\n",
              "        vertical-align: top;\n",
              "    }\n",
              "\n",
              "    .dataframe thead th {\n",
              "        text-align: right;\n",
              "    }\n",
              "</style>\n",
              "<table border=\"1\" class=\"dataframe\">\n",
              "  <thead>\n",
              "    <tr style=\"text-align: right;\">\n",
              "      <th></th>\n",
              "      <th>River</th>\n",
              "      <th>W</th>\n",
              "      <th>S</th>\n",
              "      <th>Q</th>\n",
              "      <th>U</th>\n",
              "      <th>H</th>\n",
              "      <th>D50</th>\n",
              "      <th>D84</th>\n",
              "      <th>R</th>\n",
              "      <th>qs</th>\n",
              "    </tr>\n",
              "  </thead>\n",
              "  <tbody>\n",
              "    <tr>\n",
              "      <th>0</th>\n",
              "      <td>Bogardi1</td>\n",
              "      <td>0.300</td>\n",
              "      <td>0.0104</td>\n",
              "      <td>0.02747</td>\n",
              "      <td>1.06</td>\n",
              "      <td>0.087</td>\n",
              "      <td>0.0068</td>\n",
              "      <td>0.00816</td>\n",
              "      <td>0.0721</td>\n",
              "      <td>24.1</td>\n",
              "    </tr>\n",
              "    <tr>\n",
              "      <th>1</th>\n",
              "      <td>Bogardi1</td>\n",
              "      <td>0.300</td>\n",
              "      <td>0.0141</td>\n",
              "      <td>0.01566</td>\n",
              "      <td>0.92</td>\n",
              "      <td>0.057</td>\n",
              "      <td>0.0068</td>\n",
              "      <td>0.00816</td>\n",
              "      <td>0.0504</td>\n",
              "      <td>6.1</td>\n",
              "    </tr>\n",
              "    <tr>\n",
              "      <th>2</th>\n",
              "      <td>Bogardi1</td>\n",
              "      <td>0.823</td>\n",
              "      <td>0.0143</td>\n",
              "      <td>0.02288</td>\n",
              "      <td>0.69</td>\n",
              "      <td>0.040</td>\n",
              "      <td>0.0068</td>\n",
              "      <td>0.00816</td>\n",
              "      <td>0.0389</td>\n",
              "      <td>0.2</td>\n",
              "    </tr>\n",
              "    <tr>\n",
              "      <th>3</th>\n",
              "      <td>Bogardi1</td>\n",
              "      <td>0.823</td>\n",
              "      <td>0.0145</td>\n",
              "      <td>0.04978</td>\n",
              "      <td>0.82</td>\n",
              "      <td>0.074</td>\n",
              "      <td>0.0068</td>\n",
              "      <td>0.00816</td>\n",
              "      <td>0.0709</td>\n",
              "      <td>21.9</td>\n",
              "    </tr>\n",
              "    <tr>\n",
              "      <th>4</th>\n",
              "      <td>Bogardi1</td>\n",
              "      <td>0.823</td>\n",
              "      <td>0.0153</td>\n",
              "      <td>0.03582</td>\n",
              "      <td>0.78</td>\n",
              "      <td>0.056</td>\n",
              "      <td>0.0068</td>\n",
              "      <td>0.00816</td>\n",
              "      <td>0.0535</td>\n",
              "      <td>1.8</td>\n",
              "    </tr>\n",
              "  </tbody>\n",
              "</table>\n",
              "</div>"
            ],
            "text/plain": [
              "      River      W       S        Q     U      H     D50      D84       R  \\\n",
              "0  Bogardi1  0.300  0.0104  0.02747  1.06  0.087  0.0068  0.00816  0.0721   \n",
              "1  Bogardi1  0.300  0.0141  0.01566  0.92  0.057  0.0068  0.00816  0.0504   \n",
              "2  Bogardi1  0.823  0.0143  0.02288  0.69  0.040  0.0068  0.00816  0.0389   \n",
              "3  Bogardi1  0.823  0.0145  0.04978  0.82  0.074  0.0068  0.00816  0.0709   \n",
              "4  Bogardi1  0.823  0.0153  0.03582  0.78  0.056  0.0068  0.00816  0.0535   \n",
              "\n",
              "     qs  \n",
              "0  24.1  \n",
              "1   6.1  \n",
              "2   0.2  \n",
              "3  21.9  \n",
              "4   1.8  "
            ]
          },
          "execution_count": 210,
          "metadata": {},
          "output_type": "execute_result"
        }
      ],
      "source": [
        "\n",
        "df = pd.read_excel(r'D:/paper/qb/data/lab_data.xlsx')\n",
        "df.head()"
      ]
    },
    {
      "cell_type": "code",
      "execution_count": 211,
      "metadata": {
        "id": "fGAZhzn8ZPkD"
      },
      "outputs": [],
      "source": [
        "X=df.loc[:, [ 'H','S','Q','D50','D84','R']].values\n",
        "y=df.loc[:, [ 'qs']].values"
      ]
    },
    {
      "cell_type": "code",
      "execution_count": 212,
      "metadata": {
        "id": "4UFimYPfZ-a0"
      },
      "outputs": [],
      "source": [
        "from sklearn.preprocessing import MinMaxScaler\n",
        "scaler1 = MinMaxScaler().fit(X)\n",
        "X1 = scaler1.transform(X)\n",
        "scaler2 = MinMaxScaler().fit(y)\n",
        "y1 = scaler2.transform(y)\n"
      ]
    },
    {
      "cell_type": "code",
      "execution_count": 213,
      "metadata": {
        "id": "RaXnUnLUdd_G"
      },
      "outputs": [],
      "source": [
        "\n",
        "X_train, X_test, y_train, y_test = train_test_split(X1, y1, test_size=0.2, random_state=0)\n",
        "y_train=y_train.ravel()\n",
        "y_test=y_test.ravel()\n"
      ]
    },
    {
      "cell_type": "code",
      "execution_count": 214,
      "metadata": {
        "id": "_w1_SZSOq-fe"
      },
      "outputs": [],
      "source": [
        "input_dim = X.shape[1]"
      ]
    },
    {
      "cell_type": "code",
      "execution_count": 215,
      "metadata": {
        "id": "ej4cr0RCp7oH"
      },
      "outputs": [],
      "source": [
        "model = Sequential()\n",
        "model.add(Dense(units=26 , activation='relu', input_dim=input_dim))\n",
        "model.add(Dense(units=37  , activation='relu'))\n",
        "model.add(Dense(units=64, activation='relu'))\n",
        "model.add(Dense(units=64, activation='relu'))\n",
        "model.add(Dense(units=1, activation='linear'))"
      ]
    },
    {
      "cell_type": "code",
      "execution_count": 216,
      "metadata": {
        "id": "pMF0K0qxqMWb"
      },
      "outputs": [],
      "source": [
        "from tensorflow.keras.metrics import MeanSquaredError\n",
        "model.compile(loss='mean_squared_error', optimizer='adam', metrics=['accuracy'])\n"
      ]
    },
    {
      "cell_type": "code",
      "execution_count": 217,
      "metadata": {
        "colab": {
          "base_uri": "https://localhost:8080/"
        },
        "id": "puFfxs6xqQlQ",
        "outputId": "dbf70587-9434-488d-c5c1-6760a0484211"
      },
      "outputs": [
        {
          "name": "stdout",
          "output_type": "stream",
          "text": [
            "WARNING:tensorflow:Early stopping conditioned on metric `val_loss` which is not available. Available metrics are: loss,accuracy\n",
            "WARNING:tensorflow:Early stopping conditioned on metric `val_loss` which is not available. Available metrics are: loss,accuracy\n",
            "WARNING:tensorflow:Early stopping conditioned on metric `val_loss` which is not available. Available metrics are: loss,accuracy\n",
            "WARNING:tensorflow:Early stopping conditioned on metric `val_loss` which is not available. Available metrics are: loss,accuracy\n",
            "WARNING:tensorflow:Early stopping conditioned on metric `val_loss` which is not available. Available metrics are: loss,accuracy\n",
            "WARNING:tensorflow:Early stopping conditioned on metric `val_loss` which is not available. Available metrics are: loss,accuracy\n",
            "WARNING:tensorflow:Early stopping conditioned on metric `val_loss` which is not available. Available metrics are: loss,accuracy\n",
            "WARNING:tensorflow:Early stopping conditioned on metric `val_loss` which is not available. Available metrics are: loss,accuracy\n",
            "WARNING:tensorflow:Early stopping conditioned on metric `val_loss` which is not available. Available metrics are: loss,accuracy\n",
            "WARNING:tensorflow:Early stopping conditioned on metric `val_loss` which is not available. Available metrics are: loss,accuracy\n",
            "WARNING:tensorflow:Early stopping conditioned on metric `val_loss` which is not available. Available metrics are: loss,accuracy\n",
            "WARNING:tensorflow:Early stopping conditioned on metric `val_loss` which is not available. Available metrics are: loss,accuracy\n",
            "WARNING:tensorflow:Early stopping conditioned on metric `val_loss` which is not available. Available metrics are: loss,accuracy\n",
            "WARNING:tensorflow:Early stopping conditioned on metric `val_loss` which is not available. Available metrics are: loss,accuracy\n",
            "WARNING:tensorflow:Early stopping conditioned on metric `val_loss` which is not available. Available metrics are: loss,accuracy\n",
            "WARNING:tensorflow:Early stopping conditioned on metric `val_loss` which is not available. Available metrics are: loss,accuracy\n",
            "WARNING:tensorflow:Early stopping conditioned on metric `val_loss` which is not available. Available metrics are: loss,accuracy\n",
            "WARNING:tensorflow:Early stopping conditioned on metric `val_loss` which is not available. Available metrics are: loss,accuracy\n",
            "WARNING:tensorflow:Early stopping conditioned on metric `val_loss` which is not available. Available metrics are: loss,accuracy\n",
            "WARNING:tensorflow:Early stopping conditioned on metric `val_loss` which is not available. Available metrics are: loss,accuracy\n",
            "WARNING:tensorflow:Early stopping conditioned on metric `val_loss` which is not available. Available metrics are: loss,accuracy\n",
            "WARNING:tensorflow:Early stopping conditioned on metric `val_loss` which is not available. Available metrics are: loss,accuracy\n",
            "WARNING:tensorflow:Early stopping conditioned on metric `val_loss` which is not available. Available metrics are: loss,accuracy\n",
            "WARNING:tensorflow:Early stopping conditioned on metric `val_loss` which is not available. Available metrics are: loss,accuracy\n",
            "WARNING:tensorflow:Early stopping conditioned on metric `val_loss` which is not available. Available metrics are: loss,accuracy\n",
            "WARNING:tensorflow:Early stopping conditioned on metric `val_loss` which is not available. Available metrics are: loss,accuracy\n",
            "WARNING:tensorflow:Early stopping conditioned on metric `val_loss` which is not available. Available metrics are: loss,accuracy\n",
            "WARNING:tensorflow:Early stopping conditioned on metric `val_loss` which is not available. Available metrics are: loss,accuracy\n",
            "WARNING:tensorflow:Early stopping conditioned on metric `val_loss` which is not available. Available metrics are: loss,accuracy\n",
            "WARNING:tensorflow:Early stopping conditioned on metric `val_loss` which is not available. Available metrics are: loss,accuracy\n",
            "WARNING:tensorflow:Early stopping conditioned on metric `val_loss` which is not available. Available metrics are: loss,accuracy\n",
            "WARNING:tensorflow:Early stopping conditioned on metric `val_loss` which is not available. Available metrics are: loss,accuracy\n",
            "WARNING:tensorflow:Early stopping conditioned on metric `val_loss` which is not available. Available metrics are: loss,accuracy\n",
            "WARNING:tensorflow:Early stopping conditioned on metric `val_loss` which is not available. Available metrics are: loss,accuracy\n",
            "WARNING:tensorflow:Early stopping conditioned on metric `val_loss` which is not available. Available metrics are: loss,accuracy\n",
            "WARNING:tensorflow:Early stopping conditioned on metric `val_loss` which is not available. Available metrics are: loss,accuracy\n",
            "WARNING:tensorflow:Early stopping conditioned on metric `val_loss` which is not available. Available metrics are: loss,accuracy\n",
            "WARNING:tensorflow:Early stopping conditioned on metric `val_loss` which is not available. Available metrics are: loss,accuracy\n",
            "WARNING:tensorflow:Early stopping conditioned on metric `val_loss` which is not available. Available metrics are: loss,accuracy\n",
            "WARNING:tensorflow:Early stopping conditioned on metric `val_loss` which is not available. Available metrics are: loss,accuracy\n",
            "WARNING:tensorflow:Early stopping conditioned on metric `val_loss` which is not available. Available metrics are: loss,accuracy\n",
            "WARNING:tensorflow:Early stopping conditioned on metric `val_loss` which is not available. Available metrics are: loss,accuracy\n",
            "WARNING:tensorflow:Early stopping conditioned on metric `val_loss` which is not available. Available metrics are: loss,accuracy\n",
            "WARNING:tensorflow:Early stopping conditioned on metric `val_loss` which is not available. Available metrics are: loss,accuracy\n",
            "WARNING:tensorflow:Early stopping conditioned on metric `val_loss` which is not available. Available metrics are: loss,accuracy\n",
            "WARNING:tensorflow:Early stopping conditioned on metric `val_loss` which is not available. Available metrics are: loss,accuracy\n",
            "WARNING:tensorflow:Early stopping conditioned on metric `val_loss` which is not available. Available metrics are: loss,accuracy\n",
            "WARNING:tensorflow:Early stopping conditioned on metric `val_loss` which is not available. Available metrics are: loss,accuracy\n",
            "WARNING:tensorflow:Early stopping conditioned on metric `val_loss` which is not available. Available metrics are: loss,accuracy\n",
            "WARNING:tensorflow:Early stopping conditioned on metric `val_loss` which is not available. Available metrics are: loss,accuracy\n"
          ]
        },
        {
          "data": {
            "text/plain": [
              "<keras.callbacks.History at 0x17ac2cfc520>"
            ]
          },
          "execution_count": 217,
          "metadata": {},
          "output_type": "execute_result"
        }
      ],
      "source": [
        "from keras.callbacks import EarlyStopping\n",
        "\n",
        "early_stopping = EarlyStopping(patience=2)\n",
        "\n",
        "model.fit(X_train, y_train, epochs=50, batch_size=20,verbose=0,callbacks=[early_stopping],use_multiprocessing=True)"
      ]
    },
    {
      "cell_type": "code",
      "execution_count": 218,
      "metadata": {
        "colab": {
          "base_uri": "https://localhost:8080/"
        },
        "id": "0PoWVStPqUA9",
        "outputId": "b17173c9-6f98-4012-afd1-1e4d05ea5d57"
      },
      "outputs": [
        {
          "name": "stdout",
          "output_type": "stream",
          "text": [
            "9/9 [==============================] - 0s 882us/step - loss: 9.6933e-04 - accuracy: 0.0303\n",
            "Test loss: 0.0009693254833109677\n",
            "Test accuracy: 0.03030303120613098\n"
          ]
        }
      ],
      "source": [
        "loss, accuracy = model.evaluate(X_test, y_test)\n",
        "print('Test loss:', loss)\n",
        "print('Test accuracy:', accuracy)"
      ]
    },
    {
      "cell_type": "code",
      "execution_count": 219,
      "metadata": {
        "colab": {
          "base_uri": "https://localhost:8080/"
        },
        "id": "IeHXTf1_tB6l",
        "outputId": "ff947252-9cdc-4d94-c596-de9aecd38de7"
      },
      "outputs": [],
      "source": [
        "y_pred = model.predict(X_test,verbose=0)"
      ]
    },
    {
      "cell_type": "code",
      "execution_count": 220,
      "metadata": {
        "colab": {
          "base_uri": "https://localhost:8080/"
        },
        "id": "rDOOImU-tkqj",
        "outputId": "2ce6e418-2581-4ba1-9287-521a8a20e213"
      },
      "outputs": [
        {
          "name": "stdout",
          "output_type": "stream",
          "text": [
            "MSE: 0.0009693256654275286\n",
            "RMSE: 0.031133995333518127\n",
            "R-squared: 0.9265040804646915\n",
            "Mean Absolute Error: 0.008141866447831573\n"
          ]
        }
      ],
      "source": [
        "from sklearn.metrics import mean_squared_error,r2_score,mean_absolute_error\n",
        "\n",
        "# Calculate Mean Squared Error (MSE)\n",
        "mse = mean_squared_error(y_test, y_pred)\n",
        "\n",
        "# Calculate Root Mean Squared Error (RMSE)\n",
        "rmse = np.sqrt(mse)\n",
        "print('MSE:', mse)\n",
        "\n",
        "print('RMSE:', rmse)\n",
        "\n",
        "r_squared = r2_score(y_test, y_pred)\n",
        "\n",
        "print('R-squared:', r_squared)\n",
        "\n",
        "mae = mean_absolute_error(y_test, y_pred)\n",
        "\n",
        "print(\"Mean Absolute Error:\", mae)"
      ]
    },
    {
      "cell_type": "code",
      "execution_count": 221,
      "metadata": {},
      "outputs": [
        {
          "data": {
            "image/png": "[encoded data removed]",
            "text/plain": [
              "<Figure size 640x480 with 1 Axes>"
            ]
          },
          "metadata": {},
          "output_type": "display_data"
        }
      ],
      "source": [
        "# Scatter plot\n",
        "plt.scatter(y_test, y_pred)\n",
        "plt.plot([min(y_test), max(y_test)], [min(y_test), max(y_test)], color='k', linewidth=0.7)\n",
        "plt.xlabel('True values (y_test)')\n",
        "plt.ylabel('Predicted values (y_pred)')\n",
        "plt.title('Scatter Plot: True vs Predicted values')\n",
        "plt.show()"
      ]
    }
  ],
  "metadata": {
    "colab": {
      "machine_shape": "hm",
      "provenance": []
    },
    "kernelspec": {
      "display_name": "Python 3",
      "name": "python3"
    },
    "language_info": {
      "codemirror_mode": {
        "name": "ipython",
        "version": 3
      },
      "file_extension": ".py",
      "mimetype": "text/x-python",
      "name": "python",
      "nbconvert_exporter": "python",
      "pygments_lexer": "ipython3",
      "version": "3.9.13"
    }
  },
  "nbformat": 4,
  "nbformat_minor": 0
}
