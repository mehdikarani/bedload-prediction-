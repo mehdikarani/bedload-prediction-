{
  "cells": [
    {
      "cell_type": "code",
      "execution_count": 121,
      "metadata": {
        "id": "GtuxwdPZX9Hy"
      },
      "outputs": [],
      "source": [
        "import numpy as np\n",
        "import pandas as pd\n",
        "from sklearn.model_selection import cross_val_score, train_test_split\n",
        "from sklearn.svm import SVR\n",
        "from sklearn.metrics import mean_squared_error, r2_score, mean_absolute_error\n"
      ]
    },
    {
      "cell_type": "code",
      "execution_count": 122,
      "metadata": {
        "colab": {
          "base_uri": "https://localhost:8080/",
          "height": 267
        },
        "id": "JtFg-RveYgY8",
        "outputId": "2177eeb2-0275-40c0-8c29-0b0b935a7728"
      },
      "outputs": [
        {
          "data": {
            "text/html": [
              "<div>\n",
              "<style scoped>\n",
              "    .dataframe tbody tr th:only-of-type {\n",
              "        vertical-align: middle;\n",
              "    }\n",
              "\n",
              "    .dataframe tbody tr th {\n",
              "        vertical-align: top;\n",
              "    }\n",
              "\n",
              "    .dataframe thead th {\n",
              "        text-align: right;\n",
              "    }\n",
              "</style>\n",
              "<table border=\"1\" class=\"dataframe\">\n",
              "  <thead>\n",
              "    <tr style=\"text-align: right;\">\n",
              "      <th></th>\n",
              "      <th>River</th>\n",
              "      <th>W</th>\n",
              "      <th>S</th>\n",
              "      <th>Q</th>\n",
              "      <th>U</th>\n",
              "      <th>H</th>\n",
              "      <th>D50</th>\n",
              "      <th>D84</th>\n",
              "      <th>R</th>\n",
              "      <th>qs</th>\n",
              "    </tr>\n",
              "  </thead>\n",
              "  <tbody>\n",
              "    <tr>\n",
              "      <th>0</th>\n",
              "      <td>Bogardi1</td>\n",
              "      <td>0.300</td>\n",
              "      <td>0.0104</td>\n",
              "      <td>0.02747</td>\n",
              "      <td>1.06</td>\n",
              "      <td>0.087</td>\n",
              "      <td>0.0068</td>\n",
              "      <td>0.00816</td>\n",
              "      <td>0.0721</td>\n",
              "      <td>24.1</td>\n",
              "    </tr>\n",
              "    <tr>\n",
              "      <th>1</th>\n",
              "      <td>Bogardi1</td>\n",
              "      <td>0.300</td>\n",
              "      <td>0.0141</td>\n",
              "      <td>0.01566</td>\n",
              "      <td>0.92</td>\n",
              "      <td>0.057</td>\n",
              "      <td>0.0068</td>\n",
              "      <td>0.00816</td>\n",
              "      <td>0.0504</td>\n",
              "      <td>6.1</td>\n",
              "    </tr>\n",
              "    <tr>\n",
              "      <th>2</th>\n",
              "      <td>Bogardi1</td>\n",
              "      <td>0.823</td>\n",
              "      <td>0.0143</td>\n",
              "      <td>0.02288</td>\n",
              "      <td>0.69</td>\n",
              "      <td>0.040</td>\n",
              "      <td>0.0068</td>\n",
              "      <td>0.00816</td>\n",
              "      <td>0.0389</td>\n",
              "      <td>0.2</td>\n",
              "    </tr>\n",
              "    <tr>\n",
              "      <th>3</th>\n",
              "      <td>Bogardi1</td>\n",
              "      <td>0.823</td>\n",
              "      <td>0.0145</td>\n",
              "      <td>0.04978</td>\n",
              "      <td>0.82</td>\n",
              "      <td>0.074</td>\n",
              "      <td>0.0068</td>\n",
              "      <td>0.00816</td>\n",
              "      <td>0.0709</td>\n",
              "      <td>21.9</td>\n",
              "    </tr>\n",
              "    <tr>\n",
              "      <th>4</th>\n",
              "      <td>Bogardi1</td>\n",
              "      <td>0.823</td>\n",
              "      <td>0.0153</td>\n",
              "      <td>0.03582</td>\n",
              "      <td>0.78</td>\n",
              "      <td>0.056</td>\n",
              "      <td>0.0068</td>\n",
              "      <td>0.00816</td>\n",
              "      <td>0.0535</td>\n",
              "      <td>1.8</td>\n",
              "    </tr>\n",
              "  </tbody>\n",
              "</table>\n",
              "</div>"
            ],
            "text/plain": [
              "      River      W       S        Q     U      H     D50      D84       R  \\\n",
              "0  Bogardi1  0.300  0.0104  0.02747  1.06  0.087  0.0068  0.00816  0.0721   \n",
              "1  Bogardi1  0.300  0.0141  0.01566  0.92  0.057  0.0068  0.00816  0.0504   \n",
              "2  Bogardi1  0.823  0.0143  0.02288  0.69  0.040  0.0068  0.00816  0.0389   \n",
              "3  Bogardi1  0.823  0.0145  0.04978  0.82  0.074  0.0068  0.00816  0.0709   \n",
              "4  Bogardi1  0.823  0.0153  0.03582  0.78  0.056  0.0068  0.00816  0.0535   \n",
              "\n",
              "     qs  \n",
              "0  24.1  \n",
              "1   6.1  \n",
              "2   0.2  \n",
              "3  21.9  \n",
              "4   1.8  "
            ]
          },
          "execution_count": 122,
          "metadata": {},
          "output_type": "execute_result"
        }
      ],
      "source": [
        "\n",
        "df = pd.read_excel(r'D:/paper/qb/data/lab_data.xlsx')\n",
        "df.head()"
      ]
    },
    {
      "cell_type": "code",
      "execution_count": 123,
      "metadata": {
        "id": "fGAZhzn8ZPkD"
      },
      "outputs": [],
      "source": [
        "X=df.loc[:, [ 'H','S','Q','D50','D84','R']].values\n",
        "y=df.loc[:, [ 'qs']].values"
      ]
    },
    {
      "cell_type": "code",
      "execution_count": 124,
      "metadata": {},
      "outputs": [],
      "source": [
        "from sklearn.preprocessing import MinMaxScaler\n",
        "scaler1 = MinMaxScaler().fit(X)\n",
        "X1 = scaler1.transform(X)\n",
        "scaler2 = MinMaxScaler().fit(y)\n",
        "y1 = scaler2.transform(y)\n"
      ]
    },
    {
      "cell_type": "code",
      "execution_count": 125,
      "metadata": {
        "id": "RaXnUnLUdd_G"
      },
      "outputs": [],
      "source": [
        "\n",
        "X_train, X_test, y_train, y_test = train_test_split(X1, y1, test_size=0.2, random_state=0)\n",
        "y_train=y_train.ravel()\n",
        "y_test=y_test.ravel()\n"
      ]
    },
    {
      "cell_type": "code",
      "execution_count": 126,
      "metadata": {
        "id": "qYlw3NpdfzjP"
      },
      "outputs": [],
      "source": [
        "svr_rbf = SVR(kernel=\"rbf\", C=2.96770348e+02, gamma='scale', epsilon=0.001)\n",
        "md=svr_rbf.fit(X_train,y_train)\n"
      ]
    },
    {
      "cell_type": "code",
      "execution_count": 127,
      "metadata": {},
      "outputs": [],
      "source": [
        "y_pred = svr_rbf.predict(X_test)"
      ]
    },
    {
      "cell_type": "code",
      "execution_count": 128,
      "metadata": {},
      "outputs": [],
      "source": [
        "\n",
        "def calculate_nse(y_test, y_pred):\n",
        "    mean_observed = np.mean(y_test)\n",
        "    numerator = np.sum((y_test - y_pred) ** 2)\n",
        "    denominator = np.sum((y_test - mean_observed) ** 2)\n",
        "    nse = 1 - (numerator / denominator)\n",
        "    return nse\n"
      ]
    },
    {
      "cell_type": "code",
      "execution_count": 129,
      "metadata": {
        "id": "1tiBGoaOiPuY"
      },
      "outputs": [
        {
          "name": "stdout",
          "output_type": "stream",
          "text": [
            "MSE: 0.0007455337083600327\n",
            "RMSE: 0.027304463158246358\n",
            "MAE: 0.006445631682972124\n",
            "R^2: 0.9434723670333005\n",
            "Normalized Standard Error: 0.9434723670333005\n"
          ]
        }
      ],
      "source": [
        "mse = mean_squared_error(y_test, y_pred)\n",
        "rmse = np.sqrt(mse)\n",
        "r_squared = r2_score(y_test, y_pred)\n",
        "mae = mean_absolute_error(y_test, y_pred)\n",
        "nse = calculate_nse(y_test, y_pred)\n",
        "\n",
        "print('MSE:', mse)\n",
        "print('RMSE:', rmse)\n",
        "print('MAE:', mae)\n",
        "print('R^2:', r_squared)\n",
        "print('Normalized Standard Error:', nse)\n"
      ]
    },
    {
      "cell_type": "code",
      "execution_count": 130,
      "metadata": {},
      "outputs": [
        {
          "data": {
            "image/png": "[encoded data removed]",
            "text/plain": [
              "<Figure size 640x480 with 1 Axes>"
            ]
          },
          "metadata": {},
          "output_type": "display_data"
        }
      ],
      "source": [
        "import matplotlib.pyplot as plt\n",
        "# Scatter plot\n",
        "plt.scatter(y_test, y_pred)\n",
        "plt.plot([min(y_test), max(y_test)], [min(y_test), max(y_test)], color='k', linewidth=0.7)\n",
        "plt.xlabel('True values (y_test)')\n",
        "plt.ylabel('Predicted values (y_pred)')\n",
        "plt.title('Scatter Plot: True vs Predicted values')\n",
        "plt.show()"
      ]
    }
  ],
  "metadata": {
    "colab": {
      "machine_shape": "hm",
      "provenance": []
    },
    "kernelspec": {
      "display_name": "Python 3",
      "name": "python3"
    },
    "language_info": {
      "codemirror_mode": {
        "name": "ipython",
        "version": 3
      },
      "file_extension": ".py",
      "mimetype": "text/x-python",
      "name": "python",
      "nbconvert_exporter": "python",
      "pygments_lexer": "ipython3",
      "version": "3.9.13"
    }
  },
  "nbformat": 4,
  "nbformat_minor": 0
}
