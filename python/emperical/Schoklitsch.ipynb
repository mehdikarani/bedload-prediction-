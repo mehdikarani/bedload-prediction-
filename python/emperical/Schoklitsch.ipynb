{
 "cells": [
  {
   "cell_type": "code",
   "execution_count": 1,
   "metadata": {},
   "outputs": [],
   "source": [
    "import numpy as np\n",
    "import pandas as pd\n",
    "from sklearn.model_selection import cross_val_score, train_test_split\n",
    "import matplotlib.pyplot as plt\n",
    "from keras.models import Sequential\n",
    "from keras.layers import Dense"
   ]
  },
  {
   "cell_type": "code",
   "execution_count": 2,
   "metadata": {},
   "outputs": [
    {
     "data": {
      "text/html": [
       "<div>\n",
       "<style scoped>\n",
       "    .dataframe tbody tr th:only-of-type {\n",
       "        vertical-align: middle;\n",
       "    }\n",
       "\n",
       "    .dataframe tbody tr th {\n",
       "        vertical-align: top;\n",
       "    }\n",
       "\n",
       "    .dataframe thead th {\n",
       "        text-align: right;\n",
       "    }\n",
       "</style>\n",
       "<table border=\"1\" class=\"dataframe\">\n",
       "  <thead>\n",
       "    <tr style=\"text-align: right;\">\n",
       "      <th></th>\n",
       "      <th>River</th>\n",
       "      <th>W</th>\n",
       "      <th>S</th>\n",
       "      <th>Q</th>\n",
       "      <th>U</th>\n",
       "      <th>H</th>\n",
       "      <th>D50</th>\n",
       "      <th>D84</th>\n",
       "      <th>R</th>\n",
       "      <th>qs</th>\n",
       "    </tr>\n",
       "  </thead>\n",
       "  <tbody>\n",
       "    <tr>\n",
       "      <th>0</th>\n",
       "      <td>Bogardi1</td>\n",
       "      <td>0.300</td>\n",
       "      <td>0.0104</td>\n",
       "      <td>0.02747</td>\n",
       "      <td>1.06</td>\n",
       "      <td>0.087</td>\n",
       "      <td>0.0068</td>\n",
       "      <td>0.00816</td>\n",
       "      <td>0.0721</td>\n",
       "      <td>24.1</td>\n",
       "    </tr>\n",
       "    <tr>\n",
       "      <th>1</th>\n",
       "      <td>Bogardi1</td>\n",
       "      <td>0.300</td>\n",
       "      <td>0.0141</td>\n",
       "      <td>0.01566</td>\n",
       "      <td>0.92</td>\n",
       "      <td>0.057</td>\n",
       "      <td>0.0068</td>\n",
       "      <td>0.00816</td>\n",
       "      <td>0.0504</td>\n",
       "      <td>6.1</td>\n",
       "    </tr>\n",
       "    <tr>\n",
       "      <th>2</th>\n",
       "      <td>Bogardi1</td>\n",
       "      <td>0.823</td>\n",
       "      <td>0.0143</td>\n",
       "      <td>0.02288</td>\n",
       "      <td>0.69</td>\n",
       "      <td>0.040</td>\n",
       "      <td>0.0068</td>\n",
       "      <td>0.00816</td>\n",
       "      <td>0.0389</td>\n",
       "      <td>0.2</td>\n",
       "    </tr>\n",
       "    <tr>\n",
       "      <th>3</th>\n",
       "      <td>Bogardi1</td>\n",
       "      <td>0.823</td>\n",
       "      <td>0.0145</td>\n",
       "      <td>0.04978</td>\n",
       "      <td>0.82</td>\n",
       "      <td>0.074</td>\n",
       "      <td>0.0068</td>\n",
       "      <td>0.00816</td>\n",
       "      <td>0.0709</td>\n",
       "      <td>21.9</td>\n",
       "    </tr>\n",
       "    <tr>\n",
       "      <th>4</th>\n",
       "      <td>Bogardi1</td>\n",
       "      <td>0.823</td>\n",
       "      <td>0.0153</td>\n",
       "      <td>0.03582</td>\n",
       "      <td>0.78</td>\n",
       "      <td>0.056</td>\n",
       "      <td>0.0068</td>\n",
       "      <td>0.00816</td>\n",
       "      <td>0.0535</td>\n",
       "      <td>1.8</td>\n",
       "    </tr>\n",
       "  </tbody>\n",
       "</table>\n",
       "</div>"
      ],
      "text/plain": [
       "      River      W       S        Q     U      H     D50      D84       R  \\\n",
       "0  Bogardi1  0.300  0.0104  0.02747  1.06  0.087  0.0068  0.00816  0.0721   \n",
       "1  Bogardi1  0.300  0.0141  0.01566  0.92  0.057  0.0068  0.00816  0.0504   \n",
       "2  Bogardi1  0.823  0.0143  0.02288  0.69  0.040  0.0068  0.00816  0.0389   \n",
       "3  Bogardi1  0.823  0.0145  0.04978  0.82  0.074  0.0068  0.00816  0.0709   \n",
       "4  Bogardi1  0.823  0.0153  0.03582  0.78  0.056  0.0068  0.00816  0.0535   \n",
       "\n",
       "     qs  \n",
       "0  24.1  \n",
       "1   6.1  \n",
       "2   0.2  \n",
       "3  21.9  \n",
       "4   1.8  "
      ]
     },
     "execution_count": 2,
     "metadata": {},
     "output_type": "execute_result"
    }
   ],
   "source": [
    "\n",
    "df = pd.read_excel(r'D:/paper/qb/data/lab_data.xlsx')\n",
    "df.head()\n"
   ]
  },
  {
   "cell_type": "code",
   "execution_count": 3,
   "metadata": {},
   "outputs": [
    {
     "data": {
      "text/html": [
       "<div>\n",
       "<style scoped>\n",
       "    .dataframe tbody tr th:only-of-type {\n",
       "        vertical-align: middle;\n",
       "    }\n",
       "\n",
       "    .dataframe tbody tr th {\n",
       "        vertical-align: top;\n",
       "    }\n",
       "\n",
       "    .dataframe thead th {\n",
       "        text-align: right;\n",
       "    }\n",
       "</style>\n",
       "<table border=\"1\" class=\"dataframe\">\n",
       "  <thead>\n",
       "    <tr style=\"text-align: right;\">\n",
       "      <th></th>\n",
       "      <th>W</th>\n",
       "      <th>S</th>\n",
       "      <th>Q</th>\n",
       "      <th>U</th>\n",
       "      <th>H</th>\n",
       "      <th>D50</th>\n",
       "      <th>D84</th>\n",
       "      <th>R</th>\n",
       "      <th>qs</th>\n",
       "    </tr>\n",
       "  </thead>\n",
       "  <tbody>\n",
       "    <tr>\n",
       "      <th>count</th>\n",
       "      <td>1317.000000</td>\n",
       "      <td>1317.000000</td>\n",
       "      <td>1317.000000</td>\n",
       "      <td>1317.000000</td>\n",
       "      <td>1317.000000</td>\n",
       "      <td>1317.000000</td>\n",
       "      <td>1317.000000</td>\n",
       "      <td>1317.000000</td>\n",
       "      <td>1317.000000</td>\n",
       "    </tr>\n",
       "    <tr>\n",
       "      <th>mean</th>\n",
       "      <td>0.556500</td>\n",
       "      <td>0.022705</td>\n",
       "      <td>0.113250</td>\n",
       "      <td>0.929871</td>\n",
       "      <td>0.096134</td>\n",
       "      <td>0.006579</td>\n",
       "      <td>0.007895</td>\n",
       "      <td>0.083338</td>\n",
       "      <td>2625.613591</td>\n",
       "    </tr>\n",
       "    <tr>\n",
       "      <th>std</th>\n",
       "      <td>0.377787</td>\n",
       "      <td>0.038868</td>\n",
       "      <td>0.500064</td>\n",
       "      <td>0.466911</td>\n",
       "      <td>0.109170</td>\n",
       "      <td>0.008250</td>\n",
       "      <td>0.009899</td>\n",
       "      <td>0.094409</td>\n",
       "      <td>10394.566850</td>\n",
       "    </tr>\n",
       "    <tr>\n",
       "      <th>min</th>\n",
       "      <td>0.100000</td>\n",
       "      <td>0.000990</td>\n",
       "      <td>0.000500</td>\n",
       "      <td>0.220000</td>\n",
       "      <td>0.009000</td>\n",
       "      <td>0.000300</td>\n",
       "      <td>0.000360</td>\n",
       "      <td>0.008900</td>\n",
       "      <td>0.000000</td>\n",
       "    </tr>\n",
       "    <tr>\n",
       "      <th>25%</th>\n",
       "      <td>0.305000</td>\n",
       "      <td>0.003900</td>\n",
       "      <td>0.013880</td>\n",
       "      <td>0.600000</td>\n",
       "      <td>0.043000</td>\n",
       "      <td>0.001600</td>\n",
       "      <td>0.001920</td>\n",
       "      <td>0.039200</td>\n",
       "      <td>3.400000</td>\n",
       "    </tr>\n",
       "    <tr>\n",
       "      <th>50%</th>\n",
       "      <td>0.427000</td>\n",
       "      <td>0.009000</td>\n",
       "      <td>0.026050</td>\n",
       "      <td>0.830000</td>\n",
       "      <td>0.069000</td>\n",
       "      <td>0.003300</td>\n",
       "      <td>0.003960</td>\n",
       "      <td>0.060400</td>\n",
       "      <td>49.600000</td>\n",
       "    </tr>\n",
       "    <tr>\n",
       "      <th>75%</th>\n",
       "      <td>0.819000</td>\n",
       "      <td>0.016300</td>\n",
       "      <td>0.055950</td>\n",
       "      <td>1.130000</td>\n",
       "      <td>0.116000</td>\n",
       "      <td>0.009000</td>\n",
       "      <td>0.010800</td>\n",
       "      <td>0.099000</td>\n",
       "      <td>361.000000</td>\n",
       "    </tr>\n",
       "    <tr>\n",
       "      <th>max</th>\n",
       "      <td>2.000000</td>\n",
       "      <td>0.200000</td>\n",
       "      <td>4.613810</td>\n",
       "      <td>2.880000</td>\n",
       "      <td>1.092000</td>\n",
       "      <td>0.044300</td>\n",
       "      <td>0.053160</td>\n",
       "      <td>0.917300</td>\n",
       "      <td>103700.000000</td>\n",
       "    </tr>\n",
       "  </tbody>\n",
       "</table>\n",
       "</div>"
      ],
      "text/plain": [
       "                 W            S            Q            U            H  \\\n",
       "count  1317.000000  1317.000000  1317.000000  1317.000000  1317.000000   \n",
       "mean      0.556500     0.022705     0.113250     0.929871     0.096134   \n",
       "std       0.377787     0.038868     0.500064     0.466911     0.109170   \n",
       "min       0.100000     0.000990     0.000500     0.220000     0.009000   \n",
       "25%       0.305000     0.003900     0.013880     0.600000     0.043000   \n",
       "50%       0.427000     0.009000     0.026050     0.830000     0.069000   \n",
       "75%       0.819000     0.016300     0.055950     1.130000     0.116000   \n",
       "max       2.000000     0.200000     4.613810     2.880000     1.092000   \n",
       "\n",
       "               D50          D84            R             qs  \n",
       "count  1317.000000  1317.000000  1317.000000    1317.000000  \n",
       "mean      0.006579     0.007895     0.083338    2625.613591  \n",
       "std       0.008250     0.009899     0.094409   10394.566850  \n",
       "min       0.000300     0.000360     0.008900       0.000000  \n",
       "25%       0.001600     0.001920     0.039200       3.400000  \n",
       "50%       0.003300     0.003960     0.060400      49.600000  \n",
       "75%       0.009000     0.010800     0.099000     361.000000  \n",
       "max       0.044300     0.053160     0.917300  103700.000000  "
      ]
     },
     "execution_count": 3,
     "metadata": {},
     "output_type": "execute_result"
    }
   ],
   "source": [
    "df.describe()"
   ]
  },
  {
   "cell_type": "code",
   "execution_count": 4,
   "metadata": {},
   "outputs": [],
   "source": [
    "\n",
    "X=df.loc[:, ['D84','D50','H','U','S','R','Q','W']].values\n",
    "y=df.loc[:, [ 'qs']].values\n",
    "\n",
    "X_train, X_test, y_train, y_test = train_test_split(X, y, test_size=0.2, random_state=0)\n"
   ]
  },
  {
   "cell_type": "code",
   "execution_count": 5,
   "metadata": {},
   "outputs": [
    {
     "data": {
      "text/plain": [
       "(264, 1)"
      ]
     },
     "execution_count": 5,
     "metadata": {},
     "output_type": "execute_result"
    }
   ],
   "source": [
    "np.shape(y_test)"
   ]
  },
  {
   "cell_type": "code",
   "execution_count": 6,
   "metadata": {},
   "outputs": [],
   "source": [
    "S=X_test[:,4]\n",
    "D90=X_test[:,0]\n",
    "D50=X_test[:,1]\n",
    "h=X_test[:,2]\n",
    "U=X_test[:,3 ]\n",
    "R=X_test[:,5 ]\n",
    "Q=X_test[:,6 ]\n",
    "W=X_test[:,7 ]"
   ]
  },
  {
   "cell_type": "code",
   "execution_count": 7,
   "metadata": {},
   "outputs": [],
   "source": [
    "rhos = 2650\n",
    "rho = 1000\n",
    "g=9.81\n",
    "v=1.14/1000000\n",
    "s=rhos/rho\n",
    "p=0.4"
   ]
  },
  {
   "cell_type": "code",
   "execution_count": 8,
   "metadata": {},
   "outputs": [],
   "source": [
    "import math\n",
    "def Schoklitsch(D90,D50,S,R,Q,W,U):\n",
    "    D_coef=1.05\n",
    "    C=U/(math.sqrt(R*S))\n",
    "    ta=rho*g*U**2/C**2\n",
    "    ta_str=ta/(g*(rhos-rho)*D50)\n",
    "    q=Q/W\n",
    "    D40=D50\n",
    "    qc=0.26*(s-1)**(5/3)*D40**(3/2)/(S**(7/6))\n",
    "    qsb=2.5/(s)*S**(3/2)*(q-qc)\n",
    "    qsb=qsb*(rhos-rho)*g*(1-p)\n",
    "    return qsb*1000"
   ]
  },
  {
   "cell_type": "code",
   "execution_count": 9,
   "metadata": {},
   "outputs": [],
   "source": [
    "qsb_pred=np.zeros([len(D50),1])\n",
    "for i in range(len(D50)):\n",
    "    \n",
    "    qsb_pred[i]=Schoklitsch(D90[i],D50[i],S[i],R[i],Q[i],W[i],U[i])"
   ]
  },
  {
   "cell_type": "code",
   "execution_count": 10,
   "metadata": {},
   "outputs": [],
   "source": [
    "y_pred=qsb_pred"
   ]
  },
  {
   "cell_type": "code",
   "execution_count": 11,
   "metadata": {},
   "outputs": [
    {
     "name": "stdout",
     "output_type": "stream",
     "text": [
      "MSE: 21613398.60694469\n",
      "RMSE: 4649.021252580449\n",
      "R-squared: 0.8476090886837218\n",
      "Mean Absolute Error: 1461.6321788326497\n"
     ]
    }
   ],
   "source": [
    "from sklearn.metrics import mean_squared_error,r2_score,mean_absolute_error\n",
    "\n",
    "# Calculate Mean Squared Error (MSE)\n",
    "mse = mean_squared_error(y_test, y_pred)\n",
    "\n",
    "# Calculate Root Mean Squared Error (RMSE)\n",
    "rmse = np.sqrt(mse)\n",
    "print('MSE:', mse)\n",
    "\n",
    "print('RMSE:', rmse)\n",
    "\n",
    "r_squared = r2_score(y_test, y_pred)\n",
    "\n",
    "print('R-squared:', r_squared)\n",
    "\n",
    "mae = mean_absolute_error(y_test, y_pred)\n",
    "\n",
    "print(\"Mean Absolute Error:\", mae)"
   ]
  },
  {
   "cell_type": "code",
   "execution_count": 12,
   "metadata": {},
   "outputs": [
    {
     "data": {
      "image/png": "[encoded data removed]",
      "text/plain": [
       "<Figure size 640x480 with 1 Axes>"
      ]
     },
     "metadata": {},
     "output_type": "display_data"
    }
   ],
   "source": [
    "# Scatter plot\n",
    "plt.scatter(y_test, y_pred)\n",
    "plt.plot([min(y_test), max(y_test)], [min(y_test), max(y_test)], color='k', linewidth=0.7)\n",
    "plt.xlabel('True values (y_test)')\n",
    "plt.ylabel('Predicted values (y_pred)')\n",
    "plt.title('Scatter Plot: True vs Predicted values')\n",
    "plt.show()"
   ]
  }
 ],
 "metadata": {
  "kernelspec": {
   "display_name": "base",
   "language": "python",
   "name": "python3"
  },
  "language_info": {
   "codemirror_mode": {
    "name": "ipython",
    "version": 3
   },
   "file_extension": ".py",
   "mimetype": "text/x-python",
   "name": "python",
   "nbconvert_exporter": "python",
   "pygments_lexer": "ipython3",
   "version": "3.9.13"
  },
  "orig_nbformat": 4
 },
 "nbformat": 4,
 "nbformat_minor": 2
}
