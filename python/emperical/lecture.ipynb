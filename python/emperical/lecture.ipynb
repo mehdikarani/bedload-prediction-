{
 "cells": [
  {
   "cell_type": "code",
   "execution_count": 21,
   "metadata": {},
   "outputs": [],
   "source": [
    "import numpy as np\n",
    "import pandas as pd\n",
    "from sklearn.model_selection import cross_val_score, train_test_split\n",
    "import matplotlib.pyplot as plt\n",
    "from keras.models import Sequential\n",
    "from keras.layers import Dense"
   ]
  },
  {
   "cell_type": "code",
   "execution_count": 22,
   "metadata": {},
   "outputs": [
    {
     "data": {
      "text/html": [
       "<div>\n",
       "<style scoped>\n",
       "    .dataframe tbody tr th:only-of-type {\n",
       "        vertical-align: middle;\n",
       "    }\n",
       "\n",
       "    .dataframe tbody tr th {\n",
       "        vertical-align: top;\n",
       "    }\n",
       "\n",
       "    .dataframe thead th {\n",
       "        text-align: right;\n",
       "    }\n",
       "</style>\n",
       "<table border=\"1\" class=\"dataframe\">\n",
       "  <thead>\n",
       "    <tr style=\"text-align: right;\">\n",
       "      <th></th>\n",
       "      <th>River</th>\n",
       "      <th>W</th>\n",
       "      <th>S</th>\n",
       "      <th>Q</th>\n",
       "      <th>U</th>\n",
       "      <th>H</th>\n",
       "      <th>D50</th>\n",
       "      <th>D84</th>\n",
       "      <th>R</th>\n",
       "      <th>qs</th>\n",
       "    </tr>\n",
       "  </thead>\n",
       "  <tbody>\n",
       "    <tr>\n",
       "      <th>0</th>\n",
       "      <td>Bogardi1</td>\n",
       "      <td>0.300</td>\n",
       "      <td>0.0104</td>\n",
       "      <td>0.02747</td>\n",
       "      <td>1.06</td>\n",
       "      <td>0.087</td>\n",
       "      <td>0.0068</td>\n",
       "      <td>0.00816</td>\n",
       "      <td>0.0721</td>\n",
       "      <td>24.1</td>\n",
       "    </tr>\n",
       "    <tr>\n",
       "      <th>1</th>\n",
       "      <td>Bogardi1</td>\n",
       "      <td>0.300</td>\n",
       "      <td>0.0141</td>\n",
       "      <td>0.01566</td>\n",
       "      <td>0.92</td>\n",
       "      <td>0.057</td>\n",
       "      <td>0.0068</td>\n",
       "      <td>0.00816</td>\n",
       "      <td>0.0504</td>\n",
       "      <td>6.1</td>\n",
       "    </tr>\n",
       "    <tr>\n",
       "      <th>2</th>\n",
       "      <td>Bogardi1</td>\n",
       "      <td>0.823</td>\n",
       "      <td>0.0143</td>\n",
       "      <td>0.02288</td>\n",
       "      <td>0.69</td>\n",
       "      <td>0.040</td>\n",
       "      <td>0.0068</td>\n",
       "      <td>0.00816</td>\n",
       "      <td>0.0389</td>\n",
       "      <td>0.2</td>\n",
       "    </tr>\n",
       "    <tr>\n",
       "      <th>3</th>\n",
       "      <td>Bogardi1</td>\n",
       "      <td>0.823</td>\n",
       "      <td>0.0145</td>\n",
       "      <td>0.04978</td>\n",
       "      <td>0.82</td>\n",
       "      <td>0.074</td>\n",
       "      <td>0.0068</td>\n",
       "      <td>0.00816</td>\n",
       "      <td>0.0709</td>\n",
       "      <td>21.9</td>\n",
       "    </tr>\n",
       "    <tr>\n",
       "      <th>4</th>\n",
       "      <td>Bogardi1</td>\n",
       "      <td>0.823</td>\n",
       "      <td>0.0153</td>\n",
       "      <td>0.03582</td>\n",
       "      <td>0.78</td>\n",
       "      <td>0.056</td>\n",
       "      <td>0.0068</td>\n",
       "      <td>0.00816</td>\n",
       "      <td>0.0535</td>\n",
       "      <td>1.8</td>\n",
       "    </tr>\n",
       "  </tbody>\n",
       "</table>\n",
       "</div>"
      ],
      "text/plain": [
       "      River      W       S        Q     U      H     D50      D84       R  \\\n",
       "0  Bogardi1  0.300  0.0104  0.02747  1.06  0.087  0.0068  0.00816  0.0721   \n",
       "1  Bogardi1  0.300  0.0141  0.01566  0.92  0.057  0.0068  0.00816  0.0504   \n",
       "2  Bogardi1  0.823  0.0143  0.02288  0.69  0.040  0.0068  0.00816  0.0389   \n",
       "3  Bogardi1  0.823  0.0145  0.04978  0.82  0.074  0.0068  0.00816  0.0709   \n",
       "4  Bogardi1  0.823  0.0153  0.03582  0.78  0.056  0.0068  0.00816  0.0535   \n",
       "\n",
       "     qs  \n",
       "0  24.1  \n",
       "1   6.1  \n",
       "2   0.2  \n",
       "3  21.9  \n",
       "4   1.8  "
      ]
     },
     "execution_count": 22,
     "metadata": {},
     "output_type": "execute_result"
    }
   ],
   "source": [
    "\n",
    "df = pd.read_excel(r'D:/paper/qb/data/lab_data.xlsx')\n",
    "df.head()\n"
   ]
  },
  {
   "cell_type": "code",
   "execution_count": 23,
   "metadata": {},
   "outputs": [],
   "source": [
    "X=df.loc[:, ['D84','D50','H','U','W']].values\n",
    "y=df.loc[:, [ 'qs']].values\n",
    "\n",
    "X_train, X_test, y_train, y_test = train_test_split(X, y, test_size=0.2, random_state=0)\n",
    "y_train=y_train.ravel()\n",
    "y_test=y_test.ravel()\n"
   ]
  },
  {
   "cell_type": "code",
   "execution_count": 24,
   "metadata": {},
   "outputs": [
    {
     "data": {
      "text/plain": [
       "(264,)"
      ]
     },
     "execution_count": 24,
     "metadata": {},
     "output_type": "execute_result"
    }
   ],
   "source": [
    "np.shape(y_test)"
   ]
  },
  {
   "cell_type": "code",
   "execution_count": 25,
   "metadata": {},
   "outputs": [],
   "source": [
    "W=X_test[:,4]\n",
    "D90=X_test[:,0]\n",
    "D50=X_test[:,1]\n",
    "h=X_test[:,2]\n",
    "U=X_test[:,3 ]\n",
    "qsb=y_test\n"
   ]
  },
  {
   "cell_type": "code",
   "execution_count": 26,
   "metadata": {},
   "outputs": [],
   "source": [
    "import math\n",
    "rhos = 2650    \n",
    "rho = 1000\n",
    "g=9.81\n",
    "def calculate_sediment_bed_load(D90, D50, h, U,W):\n",
    "    D90=D90\n",
    "    D50=D50\n",
    "    r = 3 * D90\n",
    "    C = 18 * math.log10(12 * h / r)\n",
    "    C90 = 18 * math.log10(12 * h / D90)\n",
    "    mu = (C / C90) ** (3 / 2)\n",
    "    delta = (rhos - rho) / rho\n",
    "    tac = rho * g * U ** 2 / C ** 2\n",
    "    qsb = 5 * D50 * U / C * math.sqrt(g) * math.exp(-0.27 * delta * D50 * rho * g / (mu * tac)) # sediment bed load\n",
    "    qsb=qsb*(rhos-rho)*g*(1-0.4)\n",
    "    return qsb*1000"
   ]
  },
  {
   "cell_type": "code",
   "execution_count": 27,
   "metadata": {},
   "outputs": [],
   "source": [
    "qsb_pred=np.zeros([len(D90),1])\n",
    "for i in range(len(D90)):\n",
    "    qsb_pred[i]=calculate_sediment_bed_load(D90[i], D50[i], h[i], U[i],W[i])"
   ]
  },
  {
   "cell_type": "code",
   "execution_count": 28,
   "metadata": {},
   "outputs": [],
   "source": [
    "y_pred=qsb_pred"
   ]
  },
  {
   "cell_type": "code",
   "execution_count": 29,
   "metadata": {},
   "outputs": [
    {
     "name": "stdout",
     "output_type": "stream",
     "text": [
      "MSE: 54937692.364889465\n",
      "RMSE: 7411.996516788811\n",
      "R-squared: 0.6126474527514241\n",
      "Mean Absolute Error: 1877.5992207981017\n"
     ]
    }
   ],
   "source": [
    "from sklearn.metrics import mean_squared_error,r2_score,mean_absolute_error\n",
    "\n",
    "# Calculate Mean Squared Error (MSE)\n",
    "mse = mean_squared_error(y_test, y_pred)\n",
    "\n",
    "# Calculate Root Mean Squared Error (RMSE)\n",
    "rmse = np.sqrt(mse)\n",
    "print('MSE:', mse)\n",
    "\n",
    "mae = mean_absolute_error(y_test, y_pred)\n",
    "\n",
    "print(\"MAE:\", mae)\n",
    "print('RMSE:', rmse)\n",
    "\n",
    "r_squared = r2_score(y_test, y_pred)\n",
    "\n",
    "print('R-squared:', r_squared)\n"
   ]
  },
  {
   "cell_type": "code",
   "execution_count": 30,
   "metadata": {},
   "outputs": [
    {
     "data": {
      "image/png": "[encoded data removed]",
      "text/plain": [
       "<Figure size 640x480 with 1 Axes>"
      ]
     },
     "metadata": {},
     "output_type": "display_data"
    }
   ],
   "source": [
    "# Scatter plot\n",
    "plt.scatter(y_test, y_pred)\n",
    "plt.plot([min(y_test), max(y_test)], [min(y_test), max(y_test)], color='k', linewidth=0.7)\n",
    "plt.xlabel('True values (y_test)')\n",
    "plt.ylabel('Predicted values (y_pred)')\n",
    "plt.title('Scatter Plot: True vs Predicted values')\n",
    "plt.show()"
   ]
  }
 ],
 "metadata": {
  "kernelspec": {
   "display_name": "base",
   "language": "python",
   "name": "python3"
  },
  "language_info": {
   "codemirror_mode": {
    "name": "ipython",
    "version": 3
   },
   "file_extension": ".py",
   "mimetype": "text/x-python",
   "name": "python",
   "nbconvert_exporter": "python",
   "pygments_lexer": "ipython3",
   "version": "3.9.13"
  },
  "orig_nbformat": 4
 },
 "nbformat": 4,
 "nbformat_minor": 2
}
